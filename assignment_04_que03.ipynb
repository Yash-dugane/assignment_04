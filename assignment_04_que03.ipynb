{
 "cells": [
  {
   "cell_type": "code",
   "execution_count": 9,
   "id": "304d37d6",
   "metadata": {},
   "outputs": [
    {
     "name": "stdout",
     "output_type": "stream",
     "text": [
      "Original List:-  [4, 5, 2, 9]\n",
      "\n",
      "Square of the elements of a list:-\n",
      "[16, 25, 4, 81]\n"
     ]
    }
   ],
   "source": [
    "# Write a Python program to square the elements of a list using map() function.\n",
    "\n",
    "# Sample List: [4, 5, 2, 9]\n",
    "\n",
    "def square_number(n):\n",
    "    return n * n\n",
    "numbers = [4, 5, 2, 9]\n",
    "print(\"Original List:- \",numbers)\n",
    "result = map(square_number, numbers)\n",
    "print(\"\\nSquare of the elements of a list:-\")\n",
    "print(list(result))"
   ]
  }
 ],
 "metadata": {
  "kernelspec": {
   "display_name": "Python 3 (ipykernel)",
   "language": "python",
   "name": "python3"
  },
  "language_info": {
   "codemirror_mode": {
    "name": "ipython",
    "version": 3
   },
   "file_extension": ".py",
   "mimetype": "text/x-python",
   "name": "python",
   "nbconvert_exporter": "python",
   "pygments_lexer": "ipython3",
   "version": "3.10.1"
  }
 },
 "nbformat": 4,
 "nbformat_minor": 5
}
