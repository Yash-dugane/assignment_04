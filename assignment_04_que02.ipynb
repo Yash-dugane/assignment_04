{
 "cells": [
  {
   "cell_type": "code",
   "execution_count": 4,
   "id": "5aa5721f",
   "metadata": {},
   "outputs": [
    {
     "name": "stdout",
     "output_type": "stream",
     "text": [
      "Original list:-  (1, 2, 3, 4, 5, 6, 7)\n",
      "\n",
      "Result:-\n",
      "[3, 6, 9, 12, 15, 18, 21]\n"
     ]
    }
   ],
   "source": [
    "# Write a Python program to triple all numbers of a given list of integers. Use Python map.\n",
    "\n",
    "# sample list: [1, 2, 3, 4, 5, 6, 7]\n",
    "\n",
    "numbers = (1, 2, 3, 4, 5, 6, 7) \n",
    "print(\"Original list:- \", numbers)\n",
    "result = map(lambda x:x + x + x, numbers) \n",
    "print(\"\\nResult:-\")\n",
    "print(list(result))"
   ]
  }
 ],
 "metadata": {
  "kernelspec": {
   "display_name": "Python 3 (ipykernel)",
   "language": "python",
   "name": "python3"
  },
  "language_info": {
   "codemirror_mode": {
    "name": "ipython",
    "version": 3
   },
   "file_extension": ".py",
   "mimetype": "text/x-python",
   "name": "python",
   "nbconvert_exporter": "python",
   "pygments_lexer": "ipython3",
   "version": "3.10.1"
  }
 },
 "nbformat": 4,
 "nbformat_minor": 5
}
